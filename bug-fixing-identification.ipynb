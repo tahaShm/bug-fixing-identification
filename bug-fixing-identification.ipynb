{
 "cells": [
  {
   "cell_type": "markdown",
   "metadata": {},
   "source": [
    "<br>\n",
    "<h1 style = \"text-align: center; color: #4d79ff;\">Bug Fixing Identification</h1>\n",
    "<h1 style = \"font-size: 20px; text-align: center; color: #6d9cff;\">Taha Shabani</h1>\n",
    "<br>"
   ]
  },
  {
   "cell_type": "markdown",
   "metadata": {},
   "source": [
    "<h2>Definition of project:</h2>\n",
    "<p style = \"font-size: 14px\">This Project aims to create a dataset that contains: (1) the bug id from the ITS, (2) the bug description from the ITS, (3) the bug-fixing change hash from the SCM, and (3) the BFC message from the\n",
    "SCM.\n",
    "<br>\n",
    "<b>Note:</b>\n",
    "<p style=\"text-indent :2em;\">1. <mark>Issue Tracking System (ITS)</mark>: ActiveMQ -> JIRA (https://issues.apache.org/jira/)</p>\n",
    "<p style=\"text-indent :2em;\">1. <mark>Source code management system (SCM)</mark>: ActiveMQ -> Git (https://github.com/apache/ActiveMQ/)</p>\n",
    "</p>"
   ]
  },
  {
   "cell_type": "markdown",
   "metadata": {},
   "source": [
    "<h2>Main Parts</h2>\n",
    "<p style=\"text-indent :2em;\"><a href=\"#Data-mining\"> 1. Data Mining using <mark>pydriller</mark> and <mark>jira</mark> libraries.</a></p>\n",
    "<p style=\"text-indent :2em;\"><a href=\"#Extracting-commits-related-to-bugs\"> 2. Extracting Commits related to bugs.</a></p>\n",
    "<p style=\"text-indent :2em;\"><a href=\"#Exporting-output\"> 3. Export output </a></p>\n",
    "\n",
    "<br>"
   ]
  },
  {
   "cell_type": "code",
   "execution_count": 1,
   "metadata": {},
   "outputs": [],
   "source": [
    "from pydriller import Repository\n",
    "import csv\n",
    "import os.path\n",
    "import pandas as pd\n",
    "from jira import JIRA"
   ]
  },
  {
   "cell_type": "markdown",
   "metadata": {},
   "source": [
    "\n",
    "<h3 style=\"color: #1a8cff;\">Data mining</h3>\n",
    "<h4> 1. SCM: </h4>\n",
    "<p>\n",
    "    To Extract SCM data, we used pydriller library and fetched <mark>hash</mark>, <mark>msg</mark>, and<mark>insertions</mark> of those commits which only contain insertions (e.g. deletions = 0).\n",
    "</p>\n",
    "<br>"
   ]
  },
  {
   "cell_type": "code",
   "execution_count": 2,
   "metadata": {},
   "outputs": [],
   "source": [
    "repoPath = 'https://github.com/apache/ActiveMQ'\n",
    "commitsFile = 'commits.csv'\n",
    "commits = []\n",
    "\n",
    "if not(os.path.isfile(commitsFile)) :\n",
    "    with open(commitsFile, 'a') as csvfile:\n",
    "        writer = csv.DictWriter(csvfile, fieldnames=['hash', 'msg', 'insertions'])\n",
    "        writer.writeheader()\n",
    "        \n",
    "        for commit in Repository(repoPath).traverse_commits():\n",
    "            if commit.deletions == 0 and commit.insertions > 0 : #commits which only insert new lines\n",
    "                record = {'hash': commit.hash, 'msg': commit.msg, 'insertions': commit.insertions}\n",
    "                writer.writerow(record)"
   ]
  },
  {
   "cell_type": "markdown",
   "metadata": {},
   "source": [
    "<h4> 1. ITS: </h4>\n",
    "<p>\n",
    "    To Extract ITS issues, we used jira library and fetched only those issues with issuetype = bug.\n",
    "</p>\n",
    "<p>\n",
    "    Then we excluded unresolved bugs. (Resolved bugs: <mark>status: Resolved</mark> or <mark>resolution: Fixed</mark>)\n",
    "</p>\n",
    "<br>"
   ]
  },
  {
   "cell_type": "code",
   "execution_count": 3,
   "metadata": {},
   "outputs": [],
   "source": [
    "jira = JIRA(server=\"https://issues.apache.org/jira\")\n",
    "\n",
    "def getAllIssues(jiraClient, projectName, fields):\n",
    "    issues = []\n",
    "    i = 0\n",
    "    chunkSize = 100\n",
    "    while True:\n",
    "        chunk = jiraClient.search_issues(f'project = {projectName}', startAt=i, \n",
    "                                         maxResults=chunkSize, fields=fields)\n",
    "        i += chunkSize\n",
    "        issues += chunk.iterable\n",
    "        if i >= chunk.total:\n",
    "            break\n",
    "    return issues"
   ]
  },
  {
   "cell_type": "code",
   "execution_count": 4,
   "metadata": {},
   "outputs": [],
   "source": [
    "import warnings\n",
    "warnings.filterwarnings('ignore')\n",
    "\n",
    "jiraIssuesFile = 'jiraIssues.csv'\n",
    "\n",
    "if not(os.path.isfile(jiraIssuesFile)) :\n",
    "    issues = getAllIssues(jira, 'ActiveMQ', ['id', 'resolution', 'status', 'issuetype', 'description'])\n",
    "    \n",
    "    with open(jiraIssuesFile, 'a') as csvfile:\n",
    "        writer = csv.DictWriter(csvfile, fieldnames=['id', 'key', 'status', 'issuetype', 'resolution', 'description'])\n",
    "        writer.writeheader()  \n",
    "        \n",
    "        for issue in issues:\n",
    "            if issue.raw['fields']['issuetype']['name'] == 'Bug':\n",
    "                \n",
    "                record = {'id': issue.id, 'key': issue.key, \n",
    "                          'status': issue.raw['fields']['status']['name'], \n",
    "                          'issuetype': issue.raw['fields']['issuetype']['name'],\n",
    "                          'resolution': \"None\" if (issue.raw['fields']['resolution'] is None) else issue.raw['fields']['resolution']['name'],\n",
    "                          'description': issue.raw['fields']['description']\n",
    "                         }\n",
    "                writer.writerow(record)"
   ]
  },
  {
   "cell_type": "code",
   "execution_count": 5,
   "metadata": {},
   "outputs": [
    {
     "data": {
      "text/html": [
       "<div>\n",
       "<style scoped>\n",
       "    .dataframe tbody tr th:only-of-type {\n",
       "        vertical-align: middle;\n",
       "    }\n",
       "\n",
       "    .dataframe tbody tr th {\n",
       "        vertical-align: top;\n",
       "    }\n",
       "\n",
       "    .dataframe thead th {\n",
       "        text-align: right;\n",
       "    }\n",
       "</style>\n",
       "<table border=\"1\" class=\"dataframe\">\n",
       "  <thead>\n",
       "    <tr style=\"text-align: right;\">\n",
       "      <th></th>\n",
       "      <th>hash</th>\n",
       "      <th>msg</th>\n",
       "      <th>insertions</th>\n",
       "    </tr>\n",
       "  </thead>\n",
       "  <tbody>\n",
       "    <tr>\n",
       "      <th>0</th>\n",
       "      <td>40a7d3b6ac35d2ecb34e85fc3403d2e48e33874e</td>\n",
       "      <td>Moved the trunk code into the trunk sub direct...</td>\n",
       "      <td>194375</td>\n",
       "    </tr>\n",
       "    <tr>\n",
       "      <th>1</th>\n",
       "      <td>8f1763f078525b3cbfd30dd8389d3f61da56ac78</td>\n",
       "      <td>Moved the trunk code into the trunk sub direct...</td>\n",
       "      <td>899</td>\n",
       "    </tr>\n",
       "    <tr>\n",
       "      <th>2</th>\n",
       "      <td>262a5596d9300b7aded14d550cf8f5ee80d7ac0f</td>\n",
       "      <td>optimisation; if a JMS exception has already b...</td>\n",
       "      <td>6</td>\n",
       "    </tr>\n",
       "    <tr>\n",
       "      <th>3</th>\n",
       "      <td>1835e4536984abac76c6d4317a73f1a7e851e960</td>\n",
       "      <td>added some helper methods to make it easy to s...</td>\n",
       "      <td>28</td>\n",
       "    </tr>\n",
       "    <tr>\n",
       "      <th>4</th>\n",
       "      <td>e1cfbad4bcb9d3342da0b198798db120914a1976</td>\n",
       "      <td>added test case for using the BrokerService wi...</td>\n",
       "      <td>29</td>\n",
       "    </tr>\n",
       "  </tbody>\n",
       "</table>\n",
       "</div>"
      ],
      "text/plain": [
       "                                       hash  \\\n",
       "0  40a7d3b6ac35d2ecb34e85fc3403d2e48e33874e   \n",
       "1  8f1763f078525b3cbfd30dd8389d3f61da56ac78   \n",
       "2  262a5596d9300b7aded14d550cf8f5ee80d7ac0f   \n",
       "3  1835e4536984abac76c6d4317a73f1a7e851e960   \n",
       "4  e1cfbad4bcb9d3342da0b198798db120914a1976   \n",
       "\n",
       "                                                 msg  insertions  \n",
       "0  Moved the trunk code into the trunk sub direct...      194375  \n",
       "1  Moved the trunk code into the trunk sub direct...         899  \n",
       "2  optimisation; if a JMS exception has already b...           6  \n",
       "3  added some helper methods to make it easy to s...          28  \n",
       "4  added test case for using the BrokerService wi...          29  "
      ]
     },
     "execution_count": 5,
     "metadata": {},
     "output_type": "execute_result"
    }
   ],
   "source": [
    "commitDf = pd.read_csv(commitsFile, dtype={\"hash\": \"string\", \"msg\": \"string\", \"insertions\": \"int\"})\n",
    "commitDf.head()"
   ]
  },
  {
   "cell_type": "code",
   "execution_count": 6,
   "metadata": {
    "scrolled": false
   },
   "outputs": [
    {
     "data": {
      "text/html": [
       "<div>\n",
       "<style scoped>\n",
       "    .dataframe tbody tr th:only-of-type {\n",
       "        vertical-align: middle;\n",
       "    }\n",
       "\n",
       "    .dataframe tbody tr th {\n",
       "        vertical-align: top;\n",
       "    }\n",
       "\n",
       "    .dataframe thead th {\n",
       "        text-align: right;\n",
       "    }\n",
       "</style>\n",
       "<table border=\"1\" class=\"dataframe\">\n",
       "  <thead>\n",
       "    <tr style=\"text-align: right;\">\n",
       "      <th></th>\n",
       "      <th>id</th>\n",
       "      <th>key</th>\n",
       "      <th>status</th>\n",
       "      <th>issuetype</th>\n",
       "      <th>resolution</th>\n",
       "      <th>description</th>\n",
       "    </tr>\n",
       "  </thead>\n",
       "  <tbody>\n",
       "    <tr>\n",
       "      <th>4</th>\n",
       "      <td>13407920</td>\n",
       "      <td>AMQ-8408</td>\n",
       "      <td>Resolved</td>\n",
       "      <td>Bug</td>\n",
       "      <td>Fixed</td>\n",
       "      <td>&lt;NA&gt;</td>\n",
       "    </tr>\n",
       "    <tr>\n",
       "      <th>6</th>\n",
       "      <td>13404313</td>\n",
       "      <td>AMQ-8395</td>\n",
       "      <td>Resolved</td>\n",
       "      <td>Bug</td>\n",
       "      <td>Fixed</td>\n",
       "      <td>{noformat}\r\n",
       "AdvisoryBroker                   |...</td>\n",
       "    </tr>\n",
       "    <tr>\n",
       "      <th>7</th>\n",
       "      <td>13402290</td>\n",
       "      <td>AMQ-8389</td>\n",
       "      <td>Closed</td>\n",
       "      <td>Bug</td>\n",
       "      <td>Fixed</td>\n",
       "      <td>We’ve found the following broken URls on the A...</td>\n",
       "    </tr>\n",
       "    <tr>\n",
       "      <th>8</th>\n",
       "      <td>13401461</td>\n",
       "      <td>AMQ-8386</td>\n",
       "      <td>Resolved</td>\n",
       "      <td>Bug</td>\n",
       "      <td>Fixed</td>\n",
       "      <td>We’ve identified the following broken URLs on ...</td>\n",
       "    </tr>\n",
       "    <tr>\n",
       "      <th>17</th>\n",
       "      <td>13395929</td>\n",
       "      <td>AMQ-8357</td>\n",
       "      <td>Closed</td>\n",
       "      <td>Bug</td>\n",
       "      <td>Fixed</td>\n",
       "      <td>The download page [1] refers several times to ...</td>\n",
       "    </tr>\n",
       "  </tbody>\n",
       "</table>\n",
       "</div>"
      ],
      "text/plain": [
       "          id       key    status issuetype resolution  \\\n",
       "4   13407920  AMQ-8408  Resolved       Bug      Fixed   \n",
       "6   13404313  AMQ-8395  Resolved       Bug      Fixed   \n",
       "7   13402290  AMQ-8389    Closed       Bug      Fixed   \n",
       "8   13401461  AMQ-8386  Resolved       Bug      Fixed   \n",
       "17  13395929  AMQ-8357    Closed       Bug      Fixed   \n",
       "\n",
       "                                          description  \n",
       "4                                                <NA>  \n",
       "6   {noformat}\n",
       "AdvisoryBroker                   |...  \n",
       "7   We’ve found the following broken URls on the A...  \n",
       "8   We’ve identified the following broken URLs on ...  \n",
       "17  The download page [1] refers several times to ...  "
      ]
     },
     "execution_count": 6,
     "metadata": {},
     "output_type": "execute_result"
    }
   ],
   "source": [
    "bugDf = pd.read_csv(jiraIssuesFile, dtype={\"id\": \"string\", \"resolution\": \"string\", \"status\": \"string\", \n",
    "                                           \"issuetype\": \"string\", \"description\": \"string\"})\n",
    "bugDf = bugDf.loc[(bugDf['status'] == 'Resolved') | (bugDf['resolution'] == 'Fixed')]\n",
    "bugDf.head()"
   ]
  },
  {
   "cell_type": "markdown",
   "metadata": {},
   "source": [
    "\n",
    "<h3 style=\"color: #1a8cff;\">Extracting commits related to bugs</h3>\n",
    "\n",
    "We iterate over bugs and find commits containing the key per each bug.\n",
    "<p>1. <b>getKeyMutations()</b>: Per each bug's key we consider two mutations: with and without dash. For example: if <mark>key=AMQ-1111</mark>, then we consider both <mark>AMQ-1111</mark> and <mark>AMQ1111</mark> respectively.</p>\n",
    "<p>2. <b>isMatchedWithKey()</b>: consider a situation that our key is <mark>AMQ-111</mark>. When we check this substring in commit messages, all the following strings would contain our key: <mark>AMQ-1110</mark>, <mark>AMQ-1111</mark>, and so on. So in order to distinguish between the correct and incorrect ones, we check the next character of our key in commit message (if it's available) and check whether it is a digit or not.</p>\n",
    "</p>\n",
    "<p>3. We also exclude <mark>Merge pull request</mark> commits.</p>\n",
    "<br>"
   ]
  },
  {
   "cell_type": "code",
   "execution_count": 7,
   "metadata": {},
   "outputs": [],
   "source": [
    "def getKeyMutations(bugKey):\n",
    "    return [bugKey, bugKey.replace('-', '')]\n",
    "\n",
    "def isMatchedWithKey(message, keys):\n",
    "    for key in keys:\n",
    "        splittedMessage = message.split(key,1)\n",
    "        if len(splittedMessage) == 2 and (splittedMessage[1] == '' or (not splittedMessage[1][0].isdigit())):\n",
    "            return True\n",
    "    return False\n",
    "        \n",
    "def findExactKeys(relevantCommits, keys):\n",
    "    relevantCommits['exactBugKey'] = relevantCommits['msg'].apply(lambda m: isMatchedWithKey(m, keys))\n",
    "    relevantCommits = relevantCommits.loc[relevantCommits['exactBugKey'] == True]"
   ]
  },
  {
   "cell_type": "code",
   "execution_count": 8,
   "metadata": {},
   "outputs": [],
   "source": [
    "def getResultRows(bugId, bugKey, bugDesc, relCommits):\n",
    "    result = []\n",
    "    for index, commit in relCommits.iterrows():\n",
    "        result.append({\"bugId\": bugId, \"bugKey\": bugKey, \"bugDesc\": bugDesc, \"hash\": commit.hash, \"msg\": commit.msg})\n",
    "    return result"
   ]
  },
  {
   "cell_type": "code",
   "execution_count": 9,
   "metadata": {},
   "outputs": [],
   "source": [
    "results = []\n",
    "excMergeCommits = commitDf.loc[commitDf['msg'].str.contains(\"Merge pull request\") == False]\n",
    "\n",
    "for index, bug in bugDf.iterrows():\n",
    "    keyMutations = getKeyMutations(bug.key)\n",
    "    relevantCommits = excMergeCommits.loc[excMergeCommits['msg'].str.contains(keyMutations[0]) | excMergeCommits['msg'].str.contains(keyMutations[1])]\n",
    "    \n",
    "    if not(relevantCommits.empty):\n",
    "        findExactKeys(relevantCommits, keyMutations)\n",
    "        results.extend(getResultRows(bug.id, bug.key, bug.description, relevantCommits))"
   ]
  },
  {
   "cell_type": "markdown",
   "metadata": {},
   "source": [
    "\n",
    "<h3 style=\"color: #1a8cff;\">Exporting output</h3>\n",
    "<br>"
   ]
  },
  {
   "cell_type": "code",
   "execution_count": 10,
   "metadata": {},
   "outputs": [],
   "source": [
    "resultFile = \"BFC.csv\"\n",
    "with open(resultFile, 'w') as csvfile:\n",
    "        writer = csv.DictWriter(csvfile, fieldnames=['bug id', 'bug key', 'bug description', 'commit hash', 'commit msg'])\n",
    "        writer.writeheader()\n",
    "        \n",
    "        for row in results:\n",
    "            record = {'bug id': row['bugId'], 'bug key': row['bugKey'], 'bug description': row['bugDesc'], \n",
    "                      'commit hash': row['hash'], 'commit msg': row['msg']}\n",
    "            writer.writerow(record)"
   ]
  }
 ],
 "metadata": {
  "kernelspec": {
   "display_name": "Python 3",
   "language": "python",
   "name": "python3"
  },
  "language_info": {
   "codemirror_mode": {
    "name": "ipython",
    "version": 3
   },
   "file_extension": ".py",
   "mimetype": "text/x-python",
   "name": "python",
   "nbconvert_exporter": "python",
   "pygments_lexer": "ipython3",
   "version": "3.6.9"
  }
 },
 "nbformat": 4,
 "nbformat_minor": 4
}
