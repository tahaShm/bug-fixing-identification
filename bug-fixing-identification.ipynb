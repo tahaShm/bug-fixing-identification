{
 "cells": [
  {
   "cell_type": "code",
   "execution_count": 125,
   "metadata": {},
   "outputs": [],
   "source": [
    "from pydriller import Repository\n",
    "import csv\n",
    "import os.path\n",
    "import pandas as pd\n",
    "from jira import JIRA"
   ]
  },
  {
   "cell_type": "code",
   "execution_count": 126,
   "metadata": {},
   "outputs": [],
   "source": [
    "repoPath = 'https://github.com/apache/ActiveMQ'\n",
    "commitsFile = 'commits.csv'\n",
    "commits = []\n",
    "\n",
    "if not(os.path.isfile(commitsFile)) :\n",
    "    with open(commitsFile, 'a') as csvfile:\n",
    "        writer = csv.DictWriter(csvfile, fieldnames=['hash', 'msg', 'deletions', 'insertions'])\n",
    "        writer.writeheader()                        \n",
    "        for commit in Repository(repoPath).traverse_commits():\n",
    "            record = {'hash': commit.hash, 'msg': commit.msg, 'deletions': commit.deletions, 'insertions': commit.insertions}\n",
    "            writer.writerow(record)"
   ]
  },
  {
   "cell_type": "code",
   "execution_count": 127,
   "metadata": {},
   "outputs": [
    {
     "data": {
      "text/html": [
       "<div>\n",
       "<style scoped>\n",
       "    .dataframe tbody tr th:only-of-type {\n",
       "        vertical-align: middle;\n",
       "    }\n",
       "\n",
       "    .dataframe tbody tr th {\n",
       "        vertical-align: top;\n",
       "    }\n",
       "\n",
       "    .dataframe thead th {\n",
       "        text-align: right;\n",
       "    }\n",
       "</style>\n",
       "<table border=\"1\" class=\"dataframe\">\n",
       "  <thead>\n",
       "    <tr style=\"text-align: right;\">\n",
       "      <th></th>\n",
       "      <th>hash</th>\n",
       "      <th>msg</th>\n",
       "      <th>deletions</th>\n",
       "      <th>insertions</th>\n",
       "    </tr>\n",
       "  </thead>\n",
       "  <tbody>\n",
       "    <tr>\n",
       "      <th>0</th>\n",
       "      <td>40a7d3b6ac35d2ecb34e85fc3403d2e48e33874e</td>\n",
       "      <td>Moved the trunk code into the trunk sub direct...</td>\n",
       "      <td>0</td>\n",
       "      <td>194375</td>\n",
       "    </tr>\n",
       "    <tr>\n",
       "      <th>1</th>\n",
       "      <td>8f1763f078525b3cbfd30dd8389d3f61da56ac78</td>\n",
       "      <td>Moved the trunk code into the trunk sub direct...</td>\n",
       "      <td>0</td>\n",
       "      <td>899</td>\n",
       "    </tr>\n",
       "    <tr>\n",
       "      <th>2</th>\n",
       "      <td>fba1488453499bddd675dbbb04054703044b4526</td>\n",
       "      <td>updated the build so that the recursive build ...</td>\n",
       "      <td>31</td>\n",
       "      <td>42</td>\n",
       "    </tr>\n",
       "    <tr>\n",
       "      <th>3</th>\n",
       "      <td>8f40a7eeca8772a16e45a15ef424142e4f90e129</td>\n",
       "      <td>removed old configuration documentation\n",
       "\n",
       "git-s...</td>\n",
       "      <td>7</td>\n",
       "      <td>0</td>\n",
       "    </tr>\n",
       "    <tr>\n",
       "      <th>4</th>\n",
       "      <td>ab8f458612b8c3020d7d0446216083c17221d257</td>\n",
       "      <td>removed old configuration documentation\n",
       "\n",
       "git-s...</td>\n",
       "      <td>1</td>\n",
       "      <td>0</td>\n",
       "    </tr>\n",
       "  </tbody>\n",
       "</table>\n",
       "</div>"
      ],
      "text/plain": [
       "                                       hash  \\\n",
       "0  40a7d3b6ac35d2ecb34e85fc3403d2e48e33874e   \n",
       "1  8f1763f078525b3cbfd30dd8389d3f61da56ac78   \n",
       "2  fba1488453499bddd675dbbb04054703044b4526   \n",
       "3  8f40a7eeca8772a16e45a15ef424142e4f90e129   \n",
       "4  ab8f458612b8c3020d7d0446216083c17221d257   \n",
       "\n",
       "                                                 msg  deletions  insertions  \n",
       "0  Moved the trunk code into the trunk sub direct...          0      194375  \n",
       "1  Moved the trunk code into the trunk sub direct...          0         899  \n",
       "2  updated the build so that the recursive build ...         31          42  \n",
       "3  removed old configuration documentation\n",
       "\n",
       "git-s...          7           0  \n",
       "4  removed old configuration documentation\n",
       "\n",
       "git-s...          1           0  "
      ]
     },
     "execution_count": 127,
     "metadata": {},
     "output_type": "execute_result"
    }
   ],
   "source": [
    "df = pd.read_csv(commitsFile, dtype={\"hash\": \"string\", \"msg\": \"string\", \"deletions\": \"int\", \"insertions\": \"int\"})\n",
    "df.head()"
   ]
  },
  {
   "cell_type": "code",
   "execution_count": 128,
   "metadata": {},
   "outputs": [],
   "source": [
    "jira = JIRA(server=\"https://issues.apache.org/jira\")\n",
    "\n",
    "def get_all_issues(jira_client, project_name, fields):\n",
    "    issues = []\n",
    "    i = 0\n",
    "    chunk_size = 100\n",
    "    while True:\n",
    "        \n",
    "        chunk = jira_client.search_issues(f'project = {project_name}', startAt=i, maxResults=chunk_size, fields=fields)\n",
    "        i += chunk_size\n",
    "        issues += chunk.iterable\n",
    "        if i >= chunk.total:\n",
    "            break\n",
    "    return issues"
   ]
  },
  {
   "cell_type": "code",
   "execution_count": 129,
   "metadata": {},
   "outputs": [],
   "source": [
    "import warnings\n",
    "warnings.filterwarnings('ignore')\n",
    "\n",
    "jiraIssuesFile = 'jiraIssues.csv'\n",
    "\n",
    "if not(os.path.isfile(jiraIssuesFile)) :\n",
    "    issues = get_all_issues(jira, 'ActiveMQ', ['id', 'resolution', 'status', 'issuetype', 'description'])\n",
    "    \n",
    "    with open(jiraIssuesFile, 'a') as csvfile:\n",
    "        writer = csv.DictWriter(csvfile, fieldnames=['id', 'key', 'status', 'issuetype', 'resolution', 'description'])\n",
    "        writer.writeheader()                        \n",
    "        for issue in issues:\n",
    "            if issue.raw['fields']['issuetype']['name'] == 'Bug':\n",
    "                \n",
    "                record = {'id': issue.id, 'key': issue.key, \n",
    "                          'status': issue.raw['fields']['status']['name'], \n",
    "                          'issuetype': issue.raw['fields']['issuetype']['name'],\n",
    "                          'resolution': \"None\" if (issue.raw['fields']['resolution'] is None) else issue.raw['fields']['resolution']['name'],\n",
    "                          'description': issue.raw['fields']['description']\n",
    "                         }\n",
    "                writer.writerow(record)"
   ]
  },
  {
   "cell_type": "code",
   "execution_count": 55,
   "metadata": {},
   "outputs": [
    {
     "data": {
      "text/plain": [
       "<JIRA IssueType: name='Bug', id='1'>"
      ]
     },
     "execution_count": 55,
     "metadata": {},
     "output_type": "execute_result"
    }
   ],
   "source": [
    "jira.issue_type(1)"
   ]
  },
  {
   "cell_type": "code",
   "execution_count": null,
   "metadata": {},
   "outputs": [],
   "source": []
  },
  {
   "cell_type": "code",
   "execution_count": null,
   "metadata": {},
   "outputs": [],
   "source": []
  }
 ],
 "metadata": {
  "kernelspec": {
   "display_name": "Python 3",
   "language": "python",
   "name": "python3"
  },
  "language_info": {
   "codemirror_mode": {
    "name": "ipython",
    "version": 3
   },
   "file_extension": ".py",
   "mimetype": "text/x-python",
   "name": "python",
   "nbconvert_exporter": "python",
   "pygments_lexer": "ipython3",
   "version": "3.6.9"
  }
 },
 "nbformat": 4,
 "nbformat_minor": 4
}
